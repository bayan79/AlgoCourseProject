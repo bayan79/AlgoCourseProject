{
 "cells": [
  {
   "cell_type": "code",
   "execution_count": 1,
   "metadata": {},
   "outputs": [],
   "source": [
    "import re\n",
    "import pandas as pd\n",
    "import numpy as np\n",
    "import time\n",
    "from collections import defaultdict"
   ]
  },
  {
   "cell_type": "code",
   "execution_count": 2,
   "metadata": {},
   "outputs": [],
   "source": [
    "df_ads = pd.read_csv(\"YandexAdsad.csv\", sep=';', usecols=[1], names=['text'])\n",
    "\n",
    "twits1 = pd.read_csv('ptwits.csv', sep=';', usecols=[3], names=['text'])\n",
    "twits2 = pd.read_csv('ntwits.csv', sep=';', usecols=[3], names=['text'])\n",
    "\n",
    "df_twits = pd.concat([twits1, twits2])"
   ]
  },
  {
   "cell_type": "code",
   "execution_count": 3,
   "metadata": {},
   "outputs": [
    {
     "data": {
      "text/html": [
       "<div>\n",
       "<style scoped>\n",
       "    .dataframe tbody tr th:only-of-type {\n",
       "        vertical-align: middle;\n",
       "    }\n",
       "\n",
       "    .dataframe tbody tr th {\n",
       "        vertical-align: top;\n",
       "    }\n",
       "\n",
       "    .dataframe thead th {\n",
       "        text-align: right;\n",
       "    }\n",
       "</style>\n",
       "<table border=\"1\" class=\"dataframe\">\n",
       "  <thead>\n",
       "    <tr style=\"text-align: right;\">\n",
       "      <th></th>\n",
       "      <th>text</th>\n",
       "    </tr>\n",
       "  </thead>\n",
       "  <tbody>\n",
       "    <tr>\n",
       "      <th>0</th>\n",
       "      <td>@first_timee хоть я и школота, но поверь, у на...</td>\n",
       "    </tr>\n",
       "    <tr>\n",
       "      <th>1</th>\n",
       "      <td>Да, все-таки он немного похож на него. Но мой ...</td>\n",
       "    </tr>\n",
       "    <tr>\n",
       "      <th>2</th>\n",
       "      <td>RT @KatiaCheh: Ну ты идиотка) я испугалась за ...</td>\n",
       "    </tr>\n",
       "    <tr>\n",
       "      <th>3</th>\n",
       "      <td>RT @digger2912: \"Кто то в углу сидит и погибае...</td>\n",
       "    </tr>\n",
       "    <tr>\n",
       "      <th>4</th>\n",
       "      <td>@irina_dyshkant Вот что значит страшилка :D\\nН...</td>\n",
       "    </tr>\n",
       "    <tr>\n",
       "      <th>...</th>\n",
       "      <td>...</td>\n",
       "    </tr>\n",
       "    <tr>\n",
       "      <th>111918</th>\n",
       "      <td>Но не каждый хочет что то исправлять:( http://...</td>\n",
       "    </tr>\n",
       "    <tr>\n",
       "      <th>111919</th>\n",
       "      <td>скучаю так :-( только @taaannyaaa вправляет мо...</td>\n",
       "    </tr>\n",
       "    <tr>\n",
       "      <th>111920</th>\n",
       "      <td>Вот и в школу, в говно это идти уже надо(</td>\n",
       "    </tr>\n",
       "    <tr>\n",
       "      <th>111921</th>\n",
       "      <td>RT @_Them__: @LisaBeroud Тауриэль, не грусти :...</td>\n",
       "    </tr>\n",
       "    <tr>\n",
       "      <th>111922</th>\n",
       "      <td>Такси везет меня на работу. Раздумываю приплат...</td>\n",
       "    </tr>\n",
       "  </tbody>\n",
       "</table>\n",
       "<p>226834 rows × 1 columns</p>\n",
       "</div>"
      ],
      "text/plain": [
       "                                                     text\n",
       "0       @first_timee хоть я и школота, но поверь, у на...\n",
       "1       Да, все-таки он немного похож на него. Но мой ...\n",
       "2       RT @KatiaCheh: Ну ты идиотка) я испугалась за ...\n",
       "3       RT @digger2912: \"Кто то в углу сидит и погибае...\n",
       "4       @irina_dyshkant Вот что значит страшилка :D\\nН...\n",
       "...                                                   ...\n",
       "111918  Но не каждый хочет что то исправлять:( http://...\n",
       "111919  скучаю так :-( только @taaannyaaa вправляет мо...\n",
       "111920          Вот и в школу, в говно это идти уже надо(\n",
       "111921  RT @_Them__: @LisaBeroud Тауриэль, не грусти :...\n",
       "111922  Такси везет меня на работу. Раздумываю приплат...\n",
       "\n",
       "[226834 rows x 1 columns]"
      ]
     },
     "execution_count": 3,
     "metadata": {},
     "output_type": "execute_result"
    }
   ],
   "source": [
    "df_twits"
   ]
  },
  {
   "cell_type": "code",
   "execution_count": 4,
   "metadata": {},
   "outputs": [
    {
     "data": {
      "text/html": [
       "<div>\n",
       "<style scoped>\n",
       "    .dataframe tbody tr th:only-of-type {\n",
       "        vertical-align: middle;\n",
       "    }\n",
       "\n",
       "    .dataframe tbody tr th {\n",
       "        vertical-align: top;\n",
       "    }\n",
       "\n",
       "    .dataframe thead th {\n",
       "        text-align: right;\n",
       "    }\n",
       "</style>\n",
       "<table border=\"1\" class=\"dataframe\">\n",
       "  <thead>\n",
       "    <tr style=\"text-align: right;\">\n",
       "      <th></th>\n",
       "      <th>text</th>\n",
       "    </tr>\n",
       "  </thead>\n",
       "  <tbody>\n",
       "    <tr>\n",
       "      <th>0</th>\n",
       "      <td>Доставка по РФ! Доставка транспортной компание...</td>\n",
       "    </tr>\n",
       "    <tr>\n",
       "      <th>1</th>\n",
       "      <td>Наличие на складе! Цены и качество от официаль...</td>\n",
       "    </tr>\n",
       "    <tr>\n",
       "      <th>2</th>\n",
       "      <td>Доставка по РФ. Оплата при получении! Наличие ...</td>\n",
       "    </tr>\n",
       "    <tr>\n",
       "      <th>3</th>\n",
       "      <td>Наличие на складе! Цены и качество от официаль...</td>\n",
       "    </tr>\n",
       "    <tr>\n",
       "      <th>4</th>\n",
       "      <td>Buderus! Цены от официального дилера. Гарантия...</td>\n",
       "    </tr>\n",
       "  </tbody>\n",
       "</table>\n",
       "</div>"
      ],
      "text/plain": [
       "                                                text\n",
       "0  Доставка по РФ! Доставка транспортной компание...\n",
       "1  Наличие на складе! Цены и качество от официаль...\n",
       "2  Доставка по РФ. Оплата при получении! Наличие ...\n",
       "3  Наличие на складе! Цены и качество от официаль...\n",
       "4  Buderus! Цены от официального дилера. Гарантия..."
      ]
     },
     "metadata": {},
     "output_type": "display_data"
    },
    {
     "data": {
      "text/html": [
       "<div>\n",
       "<style scoped>\n",
       "    .dataframe tbody tr th:only-of-type {\n",
       "        vertical-align: middle;\n",
       "    }\n",
       "\n",
       "    .dataframe tbody tr th {\n",
       "        vertical-align: top;\n",
       "    }\n",
       "\n",
       "    .dataframe thead th {\n",
       "        text-align: right;\n",
       "    }\n",
       "</style>\n",
       "<table border=\"1\" class=\"dataframe\">\n",
       "  <thead>\n",
       "    <tr style=\"text-align: right;\">\n",
       "      <th></th>\n",
       "      <th>text</th>\n",
       "    </tr>\n",
       "  </thead>\n",
       "  <tbody>\n",
       "    <tr>\n",
       "      <th>0</th>\n",
       "      <td>@first_timee хоть я и школота, но поверь, у на...</td>\n",
       "    </tr>\n",
       "    <tr>\n",
       "      <th>1</th>\n",
       "      <td>Да, все-таки он немного похож на него. Но мой ...</td>\n",
       "    </tr>\n",
       "    <tr>\n",
       "      <th>2</th>\n",
       "      <td>RT @KatiaCheh: Ну ты идиотка) я испугалась за ...</td>\n",
       "    </tr>\n",
       "    <tr>\n",
       "      <th>3</th>\n",
       "      <td>RT @digger2912: \"Кто то в углу сидит и погибае...</td>\n",
       "    </tr>\n",
       "    <tr>\n",
       "      <th>4</th>\n",
       "      <td>@irina_dyshkant Вот что значит страшилка :D\\nН...</td>\n",
       "    </tr>\n",
       "  </tbody>\n",
       "</table>\n",
       "</div>"
      ],
      "text/plain": [
       "                                                text\n",
       "0  @first_timee хоть я и школота, но поверь, у на...\n",
       "1  Да, все-таки он немного похож на него. Но мой ...\n",
       "2  RT @KatiaCheh: Ну ты идиотка) я испугалась за ...\n",
       "3  RT @digger2912: \"Кто то в углу сидит и погибае...\n",
       "4  @irina_dyshkant Вот что значит страшилка :D\\nН..."
      ]
     },
     "metadata": {},
     "output_type": "display_data"
    }
   ],
   "source": [
    "display(df_ads.head())\n",
    "display(df_twits.head())"
   ]
  },
  {
   "cell_type": "code",
   "execution_count": 5,
   "metadata": {},
   "outputs": [],
   "source": [
    "df_ads['target'] = 1\n",
    "df_twits['target'] = 0\n",
    "\n",
    "ads = df_ads[['text', 'target']]\n",
    "twits = df_twits[['text', 'target']]"
   ]
  },
  {
   "cell_type": "code",
   "execution_count": 6,
   "metadata": {},
   "outputs": [
    {
     "data": {
      "text/html": [
       "<div>\n",
       "<style scoped>\n",
       "    .dataframe tbody tr th:only-of-type {\n",
       "        vertical-align: middle;\n",
       "    }\n",
       "\n",
       "    .dataframe tbody tr th {\n",
       "        vertical-align: top;\n",
       "    }\n",
       "\n",
       "    .dataframe thead th {\n",
       "        text-align: right;\n",
       "    }\n",
       "</style>\n",
       "<table border=\"1\" class=\"dataframe\">\n",
       "  <thead>\n",
       "    <tr style=\"text-align: right;\">\n",
       "      <th></th>\n",
       "      <th>text</th>\n",
       "      <th>target</th>\n",
       "    </tr>\n",
       "  </thead>\n",
       "  <tbody>\n",
       "    <tr>\n",
       "      <th>0</th>\n",
       "      <td>Доставка по РФ! Доставка транспортной компание...</td>\n",
       "      <td>1</td>\n",
       "    </tr>\n",
       "    <tr>\n",
       "      <th>1</th>\n",
       "      <td>Наличие на складе! Цены и качество от официаль...</td>\n",
       "      <td>1</td>\n",
       "    </tr>\n",
       "    <tr>\n",
       "      <th>2</th>\n",
       "      <td>Доставка по РФ. Оплата при получении! Наличие ...</td>\n",
       "      <td>1</td>\n",
       "    </tr>\n",
       "    <tr>\n",
       "      <th>3</th>\n",
       "      <td>Наличие на складе! Цены и качество от официаль...</td>\n",
       "      <td>1</td>\n",
       "    </tr>\n",
       "    <tr>\n",
       "      <th>4</th>\n",
       "      <td>Buderus! Цены от официального дилера. Гарантия...</td>\n",
       "      <td>1</td>\n",
       "    </tr>\n",
       "    <tr>\n",
       "      <th>...</th>\n",
       "      <td>...</td>\n",
       "      <td>...</td>\n",
       "    </tr>\n",
       "    <tr>\n",
       "      <th>2084087</th>\n",
       "      <td>Для Вашего принтера! Картридж XEROX 108r00909 ...</td>\n",
       "      <td>1</td>\n",
       "    </tr>\n",
       "    <tr>\n",
       "      <th>2084088</th>\n",
       "      <td>Для Вашего принтера! Картридж XEROX 3100 MFP к...</td>\n",
       "      <td>1</td>\n",
       "    </tr>\n",
       "    <tr>\n",
       "      <th>2084089</th>\n",
       "      <td>Для Вашего принтера! Картридж XEROX 3100MFP Га...</td>\n",
       "      <td>1</td>\n",
       "    </tr>\n",
       "    <tr>\n",
       "      <th>2084090</th>\n",
       "      <td>Для Вашего принтера! Картридж XEROX 3117 купит...</td>\n",
       "      <td>1</td>\n",
       "    </tr>\n",
       "    <tr>\n",
       "      <th>2084091</th>\n",
       "      <td>Для Вашего принтера! Картридж XEROX 3117 цена ...</td>\n",
       "      <td>1</td>\n",
       "    </tr>\n",
       "  </tbody>\n",
       "</table>\n",
       "<p>2084092 rows × 2 columns</p>\n",
       "</div>"
      ],
      "text/plain": [
       "                                                      text  target\n",
       "0        Доставка по РФ! Доставка транспортной компание...       1\n",
       "1        Наличие на складе! Цены и качество от официаль...       1\n",
       "2        Доставка по РФ. Оплата при получении! Наличие ...       1\n",
       "3        Наличие на складе! Цены и качество от официаль...       1\n",
       "4        Buderus! Цены от официального дилера. Гарантия...       1\n",
       "...                                                    ...     ...\n",
       "2084087  Для Вашего принтера! Картридж XEROX 108r00909 ...       1\n",
       "2084088  Для Вашего принтера! Картридж XEROX 3100 MFP к...       1\n",
       "2084089  Для Вашего принтера! Картридж XEROX 3100MFP Га...       1\n",
       "2084090  Для Вашего принтера! Картридж XEROX 3117 купит...       1\n",
       "2084091  Для Вашего принтера! Картридж XEROX 3117 цена ...       1\n",
       "\n",
       "[2084092 rows x 2 columns]"
      ]
     },
     "execution_count": 6,
     "metadata": {},
     "output_type": "execute_result"
    }
   ],
   "source": [
    "ads"
   ]
  },
  {
   "cell_type": "code",
   "execution_count": 7,
   "metadata": {},
   "outputs": [],
   "source": [
    "def preproc(s: str):\n",
    "    def is_simple(word: str):\n",
    "        return all((char.isalpha() for char in word))\n",
    "    return ' '.join({word for word in s.lower().split() if len(word) > 3 and is_simple(word)})\n",
    "\n",
    "ads['clear'] = ads['text'].apply(preproc)\n",
    "twits['clear'] = twits['text'].apply(preproc)"
   ]
  },
  {
   "cell_type": "code",
   "execution_count": 8,
   "metadata": {},
   "outputs": [],
   "source": [
    "df = pd.concat([ads, twits]).sample(frac=1).reset_index(drop=True)\n",
    "df = df[df['clear'] != '']"
   ]
  },
  {
   "cell_type": "code",
   "execution_count": 9,
   "metadata": {},
   "outputs": [
    {
     "data": {
      "text/plain": [
       "2291978"
      ]
     },
     "execution_count": 9,
     "metadata": {},
     "output_type": "execute_result"
    }
   ],
   "source": [
    "len(df)"
   ]
  },
  {
   "cell_type": "code",
   "execution_count": 12,
   "metadata": {},
   "outputs": [
    {
     "name": "stdout",
     "output_type": "stream",
     "text": [
      "TRAIN size: 2062780\n",
      "TEST size: 229198\n"
     ]
    }
   ],
   "source": [
    "from sklearn.model_selection import train_test_split\n",
    "\n",
    "df_train, df_test = train_test_split(df, test_size=0.1, random_state=42)\n",
    "print(\"TRAIN size:\", len(df_train))\n",
    "print(\"TEST size:\", len(df_test))"
   ]
  },
  {
   "cell_type": "code",
   "execution_count": 13,
   "metadata": {},
   "outputs": [
    {
     "name": "stdout",
     "output_type": "stream",
     "text": [
      "Collecting gensim\n",
      "  Downloading gensim-3.8.3-cp38-cp38-win_amd64.whl (24.2 MB)\n",
      "Requirement already satisfied: numpy>=1.11.3 in c:\\users\\kroksa\\anaconda3\\lib\\site-packages (from gensim) (1.19.2)\n",
      "Collecting Cython==0.29.14\n",
      "  Downloading Cython-0.29.14-cp38-cp38-win_amd64.whl (1.7 MB)\n",
      "Requirement already satisfied: scipy>=0.18.1 in c:\\users\\kroksa\\anaconda3\\lib\\site-packages (from gensim) (1.5.2)\n",
      "Requirement already satisfied: six>=1.5.0 in c:\\users\\kroksa\\anaconda3\\lib\\site-packages (from gensim) (1.15.0)\n",
      "Collecting smart-open>=1.8.1\n",
      "  Downloading smart_open-4.1.0.tar.gz (116 kB)\n",
      "Building wheels for collected packages: smart-open\n",
      "  Building wheel for smart-open (setup.py): started\n",
      "  Building wheel for smart-open (setup.py): finished with status 'done'\n",
      "  Created wheel for smart-open: filename=smart_open-4.1.0-py3-none-any.whl size=106208 sha256=259e841af17a30000f0c267e2e655bf71d76dfa12e00d3c063e56270f9ef67bc\n",
      "  Stored in directory: c:\\users\\kroksa\\appdata\\local\\pip\\cache\\wheels\\74\\33\\8e\\37e22f50ce94856f37b3e23a93c648c194aa8d5a546083d09a\n",
      "Successfully built smart-open\n",
      "Installing collected packages: Cython, smart-open, gensim\n",
      "  Attempting uninstall: Cython\n",
      "    Found existing installation: Cython 0.29.21\n",
      "    Uninstalling Cython-0.29.21:\n",
      "      Successfully uninstalled Cython-0.29.21\n",
      "Successfully installed Cython-0.29.14 gensim-3.8.3 smart-open-4.1.0\n"
     ]
    }
   ],
   "source": [
    "!pip install gensim"
   ]
  },
  {
   "cell_type": "code",
   "execution_count": 14,
   "metadata": {},
   "outputs": [],
   "source": [
    "import gensim\n",
    "import logging\n",
    "logging.basicConfig(format='%(asctime)s : %(levelname)s : %(message)s', level=logging.INFO)"
   ]
  },
  {
   "cell_type": "code",
   "execution_count": 15,
   "metadata": {},
   "outputs": [],
   "source": [
    "w2v_model = gensim.models.word2vec.Word2Vec(size=1000, \n",
    "                                            window=10, \n",
    "                                            min_count=10, \n",
    "                                            workers=4)"
   ]
  },
  {
   "cell_type": "code",
   "execution_count": 16,
   "metadata": {
    "jupyter": {
     "outputs_hidden": true
    }
   },
   "outputs": [
    {
     "name": "stderr",
     "output_type": "stream",
     "text": [
      "2021-01-17 17:03:39,999 : INFO : collecting all words and their counts\n",
      "2021-01-17 17:03:40,000 : INFO : PROGRESS: at sentence #0, processed 0 words, keeping 0 word types\n",
      "2021-01-17 17:03:40,015 : INFO : PROGRESS: at sentence #10000, processed 41327 words, keeping 10786 word types\n",
      "2021-01-17 17:03:40,031 : INFO : PROGRESS: at sentence #20000, processed 82629 words, keeping 16426 word types\n",
      "2021-01-17 17:03:40,043 : INFO : PROGRESS: at sentence #30000, processed 123847 words, keeping 20802 word types\n",
      "2021-01-17 17:03:40,054 : INFO : PROGRESS: at sentence #40000, processed 165041 words, keeping 24504 word types\n",
      "2021-01-17 17:03:40,067 : INFO : PROGRESS: at sentence #50000, processed 206419 words, keeping 27822 word types\n",
      "2021-01-17 17:03:40,082 : INFO : PROGRESS: at sentence #60000, processed 247761 words, keeping 30771 word types\n",
      "2021-01-17 17:03:40,095 : INFO : PROGRESS: at sentence #70000, processed 289199 words, keeping 33400 word types\n",
      "2021-01-17 17:03:40,108 : INFO : PROGRESS: at sentence #80000, processed 330493 words, keeping 35832 word types\n",
      "2021-01-17 17:03:40,120 : INFO : PROGRESS: at sentence #90000, processed 371713 words, keeping 38117 word types\n",
      "2021-01-17 17:03:40,133 : INFO : PROGRESS: at sentence #100000, processed 413153 words, keeping 40379 word types\n",
      "2021-01-17 17:03:40,145 : INFO : PROGRESS: at sentence #110000, processed 454368 words, keeping 42508 word types\n",
      "2021-01-17 17:03:40,158 : INFO : PROGRESS: at sentence #120000, processed 495651 words, keeping 44556 word types\n",
      "2021-01-17 17:03:40,172 : INFO : PROGRESS: at sentence #130000, processed 536788 words, keeping 46504 word types\n",
      "2021-01-17 17:03:40,184 : INFO : PROGRESS: at sentence #140000, processed 577995 words, keeping 48379 word types\n",
      "2021-01-17 17:03:40,197 : INFO : PROGRESS: at sentence #150000, processed 619326 words, keeping 50118 word types\n",
      "2021-01-17 17:03:40,209 : INFO : PROGRESS: at sentence #160000, processed 660578 words, keeping 51886 word types\n",
      "2021-01-17 17:03:40,222 : INFO : PROGRESS: at sentence #170000, processed 702051 words, keeping 53587 word types\n",
      "2021-01-17 17:03:40,235 : INFO : PROGRESS: at sentence #180000, processed 743380 words, keeping 55264 word types\n",
      "2021-01-17 17:03:40,248 : INFO : PROGRESS: at sentence #190000, processed 784868 words, keeping 56854 word types\n",
      "2021-01-17 17:03:40,260 : INFO : PROGRESS: at sentence #200000, processed 825852 words, keeping 58322 word types\n",
      "2021-01-17 17:03:40,272 : INFO : PROGRESS: at sentence #210000, processed 867103 words, keeping 59824 word types\n",
      "2021-01-17 17:03:40,287 : INFO : PROGRESS: at sentence #220000, processed 908370 words, keeping 61158 word types\n",
      "2021-01-17 17:03:40,301 : INFO : PROGRESS: at sentence #230000, processed 949549 words, keeping 62503 word types\n",
      "2021-01-17 17:03:40,314 : INFO : PROGRESS: at sentence #240000, processed 990902 words, keeping 63855 word types\n",
      "2021-01-17 17:03:40,327 : INFO : PROGRESS: at sentence #250000, processed 1032356 words, keeping 65167 word types\n",
      "2021-01-17 17:03:40,340 : INFO : PROGRESS: at sentence #260000, processed 1073808 words, keeping 66458 word types\n",
      "2021-01-17 17:03:40,352 : INFO : PROGRESS: at sentence #270000, processed 1115030 words, keeping 67806 word types\n",
      "2021-01-17 17:03:40,366 : INFO : PROGRESS: at sentence #280000, processed 1156363 words, keeping 68994 word types\n",
      "2021-01-17 17:03:40,378 : INFO : PROGRESS: at sentence #290000, processed 1197743 words, keeping 70209 word types\n",
      "2021-01-17 17:03:40,392 : INFO : PROGRESS: at sentence #300000, processed 1239150 words, keeping 71437 word types\n",
      "2021-01-17 17:03:40,404 : INFO : PROGRESS: at sentence #310000, processed 1280531 words, keeping 72644 word types\n",
      "2021-01-17 17:03:40,417 : INFO : PROGRESS: at sentence #320000, processed 1321828 words, keeping 73871 word types\n",
      "2021-01-17 17:03:40,429 : INFO : PROGRESS: at sentence #330000, processed 1363101 words, keeping 75052 word types\n",
      "2021-01-17 17:03:40,442 : INFO : PROGRESS: at sentence #340000, processed 1404148 words, keeping 76217 word types\n",
      "2021-01-17 17:03:40,455 : INFO : PROGRESS: at sentence #350000, processed 1445591 words, keeping 77347 word types\n",
      "2021-01-17 17:03:40,467 : INFO : PROGRESS: at sentence #360000, processed 1487132 words, keeping 78477 word types\n",
      "2021-01-17 17:03:40,480 : INFO : PROGRESS: at sentence #370000, processed 1528373 words, keeping 79466 word types\n",
      "2021-01-17 17:03:40,492 : INFO : PROGRESS: at sentence #380000, processed 1569774 words, keeping 80610 word types\n",
      "2021-01-17 17:03:40,505 : INFO : PROGRESS: at sentence #390000, processed 1611190 words, keeping 81670 word types\n",
      "2021-01-17 17:03:40,518 : INFO : PROGRESS: at sentence #400000, processed 1652505 words, keeping 82704 word types\n",
      "2021-01-17 17:03:40,530 : INFO : PROGRESS: at sentence #410000, processed 1693832 words, keeping 83740 word types\n",
      "2021-01-17 17:03:40,543 : INFO : PROGRESS: at sentence #420000, processed 1735114 words, keeping 84779 word types\n",
      "2021-01-17 17:03:40,556 : INFO : PROGRESS: at sentence #430000, processed 1776622 words, keeping 85806 word types\n",
      "2021-01-17 17:03:40,571 : INFO : PROGRESS: at sentence #440000, processed 1817946 words, keeping 86798 word types\n",
      "2021-01-17 17:03:40,586 : INFO : PROGRESS: at sentence #450000, processed 1859388 words, keeping 87794 word types\n",
      "2021-01-17 17:03:40,598 : INFO : PROGRESS: at sentence #460000, processed 1900866 words, keeping 88750 word types\n",
      "2021-01-17 17:03:40,610 : INFO : PROGRESS: at sentence #470000, processed 1942207 words, keeping 89695 word types\n",
      "2021-01-17 17:03:40,624 : INFO : PROGRESS: at sentence #480000, processed 1983307 words, keeping 90621 word types\n",
      "2021-01-17 17:03:40,636 : INFO : PROGRESS: at sentence #490000, processed 2024631 words, keeping 91578 word types\n",
      "2021-01-17 17:03:40,648 : INFO : PROGRESS: at sentence #500000, processed 2065686 words, keeping 92509 word types\n",
      "2021-01-17 17:03:40,661 : INFO : PROGRESS: at sentence #510000, processed 2107238 words, keeping 93527 word types\n",
      "2021-01-17 17:03:40,674 : INFO : PROGRESS: at sentence #520000, processed 2148470 words, keeping 94391 word types\n",
      "2021-01-17 17:03:40,687 : INFO : PROGRESS: at sentence #530000, processed 2189560 words, keeping 95344 word types\n",
      "2021-01-17 17:03:40,700 : INFO : PROGRESS: at sentence #540000, processed 2231163 words, keeping 96346 word types\n",
      "2021-01-17 17:03:40,713 : INFO : PROGRESS: at sentence #550000, processed 2272607 words, keeping 97260 word types\n",
      "2021-01-17 17:03:40,726 : INFO : PROGRESS: at sentence #560000, processed 2314002 words, keeping 98183 word types\n",
      "2021-01-17 17:03:40,738 : INFO : PROGRESS: at sentence #570000, processed 2355376 words, keeping 98998 word types\n",
      "2021-01-17 17:03:40,751 : INFO : PROGRESS: at sentence #580000, processed 2396419 words, keeping 99840 word types\n",
      "2021-01-17 17:03:40,766 : INFO : PROGRESS: at sentence #590000, processed 2437800 words, keeping 100722 word types\n",
      "2021-01-17 17:03:40,781 : INFO : PROGRESS: at sentence #600000, processed 2479231 words, keeping 101581 word types\n",
      "2021-01-17 17:03:40,794 : INFO : PROGRESS: at sentence #610000, processed 2520755 words, keeping 102467 word types\n",
      "2021-01-17 17:03:40,807 : INFO : PROGRESS: at sentence #620000, processed 2562077 words, keeping 103268 word types\n",
      "2021-01-17 17:03:40,820 : INFO : PROGRESS: at sentence #630000, processed 2603554 words, keeping 104098 word types\n",
      "2021-01-17 17:03:40,832 : INFO : PROGRESS: at sentence #640000, processed 2644812 words, keeping 104911 word types\n",
      "2021-01-17 17:03:40,845 : INFO : PROGRESS: at sentence #650000, processed 2686075 words, keeping 105710 word types\n",
      "2021-01-17 17:03:40,858 : INFO : PROGRESS: at sentence #660000, processed 2727495 words, keeping 106598 word types\n",
      "2021-01-17 17:03:40,872 : INFO : PROGRESS: at sentence #670000, processed 2768489 words, keeping 107315 word types\n",
      "2021-01-17 17:03:40,885 : INFO : PROGRESS: at sentence #680000, processed 2809777 words, keeping 108108 word types\n",
      "2021-01-17 17:03:40,899 : INFO : PROGRESS: at sentence #690000, processed 2851220 words, keeping 108924 word types\n",
      "2021-01-17 17:03:40,912 : INFO : PROGRESS: at sentence #700000, processed 2892336 words, keeping 109652 word types\n",
      "2021-01-17 17:03:40,925 : INFO : PROGRESS: at sentence #710000, processed 2933712 words, keeping 110437 word types\n"
     ]
    },
    {
     "name": "stderr",
     "output_type": "stream",
     "text": [
      "2021-01-17 17:03:40,940 : INFO : PROGRESS: at sentence #720000, processed 2975072 words, keeping 111166 word types\n",
      "2021-01-17 17:03:40,958 : INFO : PROGRESS: at sentence #730000, processed 3016393 words, keeping 111956 word types\n",
      "2021-01-17 17:03:40,973 : INFO : PROGRESS: at sentence #740000, processed 3057526 words, keeping 112743 word types\n",
      "2021-01-17 17:03:40,985 : INFO : PROGRESS: at sentence #750000, processed 3098761 words, keeping 113496 word types\n",
      "2021-01-17 17:03:40,998 : INFO : PROGRESS: at sentence #760000, processed 3139943 words, keeping 114242 word types\n",
      "2021-01-17 17:03:41,012 : INFO : PROGRESS: at sentence #770000, processed 3181271 words, keeping 115002 word types\n",
      "2021-01-17 17:03:41,024 : INFO : PROGRESS: at sentence #780000, processed 3222492 words, keeping 115707 word types\n",
      "2021-01-17 17:03:41,037 : INFO : PROGRESS: at sentence #790000, processed 3263725 words, keeping 116415 word types\n",
      "2021-01-17 17:03:41,051 : INFO : PROGRESS: at sentence #800000, processed 3305059 words, keeping 117142 word types\n",
      "2021-01-17 17:03:41,064 : INFO : PROGRESS: at sentence #810000, processed 3346398 words, keeping 117861 word types\n",
      "2021-01-17 17:03:41,078 : INFO : PROGRESS: at sentence #820000, processed 3387828 words, keeping 118581 word types\n",
      "2021-01-17 17:03:41,094 : INFO : PROGRESS: at sentence #830000, processed 3429123 words, keeping 119290 word types\n",
      "2021-01-17 17:03:41,108 : INFO : PROGRESS: at sentence #840000, processed 3470508 words, keeping 119980 word types\n",
      "2021-01-17 17:03:41,123 : INFO : PROGRESS: at sentence #850000, processed 3511684 words, keeping 120639 word types\n",
      "2021-01-17 17:03:41,136 : INFO : PROGRESS: at sentence #860000, processed 3552860 words, keeping 121336 word types\n",
      "2021-01-17 17:03:41,152 : INFO : PROGRESS: at sentence #870000, processed 3594231 words, keeping 122066 word types\n",
      "2021-01-17 17:03:41,165 : INFO : PROGRESS: at sentence #880000, processed 3635532 words, keeping 122724 word types\n",
      "2021-01-17 17:03:41,178 : INFO : PROGRESS: at sentence #890000, processed 3677078 words, keeping 123410 word types\n",
      "2021-01-17 17:03:41,191 : INFO : PROGRESS: at sentence #900000, processed 3718340 words, keeping 124090 word types\n",
      "2021-01-17 17:03:41,205 : INFO : PROGRESS: at sentence #910000, processed 3759599 words, keeping 124722 word types\n",
      "2021-01-17 17:03:41,220 : INFO : PROGRESS: at sentence #920000, processed 3800843 words, keeping 125387 word types\n",
      "2021-01-17 17:03:41,234 : INFO : PROGRESS: at sentence #930000, processed 3842004 words, keeping 126062 word types\n",
      "2021-01-17 17:03:41,246 : INFO : PROGRESS: at sentence #940000, processed 3883449 words, keeping 126691 word types\n",
      "2021-01-17 17:03:41,259 : INFO : PROGRESS: at sentence #950000, processed 3924563 words, keeping 127326 word types\n",
      "2021-01-17 17:03:41,272 : INFO : PROGRESS: at sentence #960000, processed 3965729 words, keeping 127976 word types\n",
      "2021-01-17 17:03:41,286 : INFO : PROGRESS: at sentence #970000, processed 4007025 words, keeping 128635 word types\n",
      "2021-01-17 17:03:41,300 : INFO : PROGRESS: at sentence #980000, processed 4048045 words, keeping 129274 word types\n",
      "2021-01-17 17:03:41,314 : INFO : PROGRESS: at sentence #990000, processed 4089452 words, keeping 129878 word types\n",
      "2021-01-17 17:03:41,327 : INFO : PROGRESS: at sentence #1000000, processed 4130709 words, keeping 130524 word types\n",
      "2021-01-17 17:03:41,341 : INFO : PROGRESS: at sentence #1010000, processed 4171840 words, keeping 131163 word types\n",
      "2021-01-17 17:03:41,353 : INFO : PROGRESS: at sentence #1020000, processed 4212939 words, keeping 131735 word types\n",
      "2021-01-17 17:03:41,367 : INFO : PROGRESS: at sentence #1030000, processed 4253956 words, keeping 132313 word types\n",
      "2021-01-17 17:03:41,380 : INFO : PROGRESS: at sentence #1040000, processed 4295252 words, keeping 132969 word types\n",
      "2021-01-17 17:03:41,393 : INFO : PROGRESS: at sentence #1050000, processed 4336790 words, keeping 133621 word types\n",
      "2021-01-17 17:03:41,407 : INFO : PROGRESS: at sentence #1060000, processed 4378080 words, keeping 134287 word types\n",
      "2021-01-17 17:03:41,422 : INFO : PROGRESS: at sentence #1070000, processed 4419152 words, keeping 134877 word types\n",
      "2021-01-17 17:03:41,433 : INFO : PROGRESS: at sentence #1080000, processed 4460393 words, keeping 135507 word types\n",
      "2021-01-17 17:03:41,447 : INFO : PROGRESS: at sentence #1090000, processed 4501578 words, keeping 136044 word types\n",
      "2021-01-17 17:03:41,462 : INFO : PROGRESS: at sentence #1100000, processed 4542960 words, keeping 136597 word types\n",
      "2021-01-17 17:03:41,474 : INFO : PROGRESS: at sentence #1110000, processed 4583776 words, keeping 137217 word types\n",
      "2021-01-17 17:03:41,489 : INFO : PROGRESS: at sentence #1120000, processed 4625163 words, keeping 137825 word types\n",
      "2021-01-17 17:03:41,502 : INFO : PROGRESS: at sentence #1130000, processed 4666620 words, keeping 138409 word types\n",
      "2021-01-17 17:03:41,515 : INFO : PROGRESS: at sentence #1140000, processed 4707923 words, keeping 138976 word types\n",
      "2021-01-17 17:03:41,528 : INFO : PROGRESS: at sentence #1150000, processed 4749205 words, keeping 139589 word types\n",
      "2021-01-17 17:03:41,542 : INFO : PROGRESS: at sentence #1160000, processed 4790607 words, keeping 140156 word types\n",
      "2021-01-17 17:03:41,554 : INFO : PROGRESS: at sentence #1170000, processed 4831709 words, keeping 140729 word types\n",
      "2021-01-17 17:03:41,568 : INFO : PROGRESS: at sentence #1180000, processed 4872976 words, keeping 141241 word types\n",
      "2021-01-17 17:03:41,580 : INFO : PROGRESS: at sentence #1190000, processed 4914211 words, keeping 141834 word types\n",
      "2021-01-17 17:03:41,593 : INFO : PROGRESS: at sentence #1200000, processed 4955539 words, keeping 142386 word types\n",
      "2021-01-17 17:03:41,607 : INFO : PROGRESS: at sentence #1210000, processed 4996711 words, keeping 142986 word types\n",
      "2021-01-17 17:03:41,621 : INFO : PROGRESS: at sentence #1220000, processed 5037754 words, keeping 143485 word types\n",
      "2021-01-17 17:03:41,635 : INFO : PROGRESS: at sentence #1230000, processed 5079154 words, keeping 144067 word types\n",
      "2021-01-17 17:03:41,648 : INFO : PROGRESS: at sentence #1240000, processed 5120407 words, keeping 144607 word types\n",
      "2021-01-17 17:03:41,662 : INFO : PROGRESS: at sentence #1250000, processed 5161691 words, keeping 145167 word types\n",
      "2021-01-17 17:03:41,674 : INFO : PROGRESS: at sentence #1260000, processed 5203002 words, keeping 145736 word types\n",
      "2021-01-17 17:03:41,688 : INFO : PROGRESS: at sentence #1270000, processed 5244282 words, keeping 146263 word types\n",
      "2021-01-17 17:03:41,703 : INFO : PROGRESS: at sentence #1280000, processed 5285592 words, keeping 146803 word types\n",
      "2021-01-17 17:03:41,716 : INFO : PROGRESS: at sentence #1290000, processed 5326932 words, keeping 147348 word types\n",
      "2021-01-17 17:03:41,730 : INFO : PROGRESS: at sentence #1300000, processed 5368084 words, keeping 147913 word types\n",
      "2021-01-17 17:03:41,745 : INFO : PROGRESS: at sentence #1310000, processed 5409263 words, keeping 148482 word types\n",
      "2021-01-17 17:03:41,759 : INFO : PROGRESS: at sentence #1320000, processed 5450528 words, keeping 149006 word types\n",
      "2021-01-17 17:03:41,776 : INFO : PROGRESS: at sentence #1330000, processed 5491855 words, keeping 149593 word types\n",
      "2021-01-17 17:03:41,791 : INFO : PROGRESS: at sentence #1340000, processed 5533101 words, keeping 150168 word types\n",
      "2021-01-17 17:03:41,805 : INFO : PROGRESS: at sentence #1350000, processed 5574283 words, keeping 150726 word types\n",
      "2021-01-17 17:03:41,820 : INFO : PROGRESS: at sentence #1360000, processed 5615333 words, keeping 151265 word types\n",
      "2021-01-17 17:03:41,835 : INFO : PROGRESS: at sentence #1370000, processed 5656697 words, keeping 151826 word types\n",
      "2021-01-17 17:03:41,852 : INFO : PROGRESS: at sentence #1380000, processed 5697937 words, keeping 152344 word types\n",
      "2021-01-17 17:03:41,867 : INFO : PROGRESS: at sentence #1390000, processed 5739228 words, keeping 152880 word types\n",
      "2021-01-17 17:03:41,882 : INFO : PROGRESS: at sentence #1400000, processed 5780487 words, keeping 153427 word types\n",
      "2021-01-17 17:03:41,897 : INFO : PROGRESS: at sentence #1410000, processed 5821985 words, keeping 154003 word types\n",
      "2021-01-17 17:03:41,914 : INFO : PROGRESS: at sentence #1420000, processed 5863096 words, keeping 154531 word types\n"
     ]
    },
    {
     "name": "stderr",
     "output_type": "stream",
     "text": [
      "2021-01-17 17:03:41,929 : INFO : PROGRESS: at sentence #1430000, processed 5904526 words, keeping 155039 word types\n",
      "2021-01-17 17:03:41,950 : INFO : PROGRESS: at sentence #1440000, processed 5945896 words, keeping 155557 word types\n",
      "2021-01-17 17:03:41,965 : INFO : PROGRESS: at sentence #1450000, processed 5987459 words, keeping 156076 word types\n",
      "2021-01-17 17:03:41,979 : INFO : PROGRESS: at sentence #1460000, processed 6029002 words, keeping 156615 word types\n",
      "2021-01-17 17:03:41,992 : INFO : PROGRESS: at sentence #1470000, processed 6070420 words, keeping 157129 word types\n",
      "2021-01-17 17:03:42,007 : INFO : PROGRESS: at sentence #1480000, processed 6111785 words, keeping 157625 word types\n",
      "2021-01-17 17:03:42,019 : INFO : PROGRESS: at sentence #1490000, processed 6153316 words, keeping 158147 word types\n",
      "2021-01-17 17:03:42,032 : INFO : PROGRESS: at sentence #1500000, processed 6194572 words, keeping 158661 word types\n",
      "2021-01-17 17:03:42,046 : INFO : PROGRESS: at sentence #1510000, processed 6235920 words, keeping 159203 word types\n",
      "2021-01-17 17:03:42,059 : INFO : PROGRESS: at sentence #1520000, processed 6277122 words, keeping 159707 word types\n",
      "2021-01-17 17:03:42,072 : INFO : PROGRESS: at sentence #1530000, processed 6318214 words, keeping 160190 word types\n",
      "2021-01-17 17:03:42,085 : INFO : PROGRESS: at sentence #1540000, processed 6359762 words, keeping 160700 word types\n",
      "2021-01-17 17:03:42,099 : INFO : PROGRESS: at sentence #1550000, processed 6401318 words, keeping 161201 word types\n",
      "2021-01-17 17:03:42,111 : INFO : PROGRESS: at sentence #1560000, processed 6442357 words, keeping 161699 word types\n",
      "2021-01-17 17:03:42,124 : INFO : PROGRESS: at sentence #1570000, processed 6483702 words, keeping 162194 word types\n",
      "2021-01-17 17:03:42,139 : INFO : PROGRESS: at sentence #1580000, processed 6524851 words, keeping 162654 word types\n",
      "2021-01-17 17:03:42,150 : INFO : PROGRESS: at sentence #1590000, processed 6566190 words, keeping 163162 word types\n",
      "2021-01-17 17:03:42,163 : INFO : PROGRESS: at sentence #1600000, processed 6607409 words, keeping 163647 word types\n",
      "2021-01-17 17:03:42,175 : INFO : PROGRESS: at sentence #1610000, processed 6648662 words, keeping 164165 word types\n",
      "2021-01-17 17:03:42,189 : INFO : PROGRESS: at sentence #1620000, processed 6690005 words, keeping 164625 word types\n",
      "2021-01-17 17:03:42,202 : INFO : PROGRESS: at sentence #1630000, processed 6731464 words, keeping 165126 word types\n",
      "2021-01-17 17:03:42,215 : INFO : PROGRESS: at sentence #1640000, processed 6772751 words, keeping 165643 word types\n",
      "2021-01-17 17:03:42,228 : INFO : PROGRESS: at sentence #1650000, processed 6814288 words, keeping 166112 word types\n",
      "2021-01-17 17:03:42,241 : INFO : PROGRESS: at sentence #1660000, processed 6855500 words, keeping 166609 word types\n",
      "2021-01-17 17:03:42,254 : INFO : PROGRESS: at sentence #1670000, processed 6896880 words, keeping 167134 word types\n",
      "2021-01-17 17:03:42,267 : INFO : PROGRESS: at sentence #1680000, processed 6938277 words, keeping 167578 word types\n",
      "2021-01-17 17:03:42,281 : INFO : PROGRESS: at sentence #1690000, processed 6979520 words, keeping 168056 word types\n",
      "2021-01-17 17:03:42,294 : INFO : PROGRESS: at sentence #1700000, processed 7020773 words, keeping 168553 word types\n",
      "2021-01-17 17:03:42,307 : INFO : PROGRESS: at sentence #1710000, processed 7062140 words, keeping 169015 word types\n",
      "2021-01-17 17:03:42,319 : INFO : PROGRESS: at sentence #1720000, processed 7103358 words, keeping 169522 word types\n",
      "2021-01-17 17:03:42,332 : INFO : PROGRESS: at sentence #1730000, processed 7144694 words, keeping 170009 word types\n",
      "2021-01-17 17:03:42,344 : INFO : PROGRESS: at sentence #1740000, processed 7186024 words, keeping 170495 word types\n",
      "2021-01-17 17:03:42,357 : INFO : PROGRESS: at sentence #1750000, processed 7227232 words, keeping 170943 word types\n",
      "2021-01-17 17:03:42,371 : INFO : PROGRESS: at sentence #1760000, processed 7268649 words, keeping 171448 word types\n",
      "2021-01-17 17:03:42,383 : INFO : PROGRESS: at sentence #1770000, processed 7310144 words, keeping 171920 word types\n",
      "2021-01-17 17:03:42,396 : INFO : PROGRESS: at sentence #1780000, processed 7351437 words, keeping 172391 word types\n",
      "2021-01-17 17:03:42,410 : INFO : PROGRESS: at sentence #1790000, processed 7392943 words, keeping 172845 word types\n",
      "2021-01-17 17:03:42,422 : INFO : PROGRESS: at sentence #1800000, processed 7434256 words, keeping 173288 word types\n",
      "2021-01-17 17:03:42,435 : INFO : PROGRESS: at sentence #1810000, processed 7475757 words, keeping 173754 word types\n",
      "2021-01-17 17:03:42,448 : INFO : PROGRESS: at sentence #1820000, processed 7517055 words, keeping 174201 word types\n",
      "2021-01-17 17:03:42,461 : INFO : PROGRESS: at sentence #1830000, processed 7558374 words, keeping 174691 word types\n",
      "2021-01-17 17:03:42,476 : INFO : PROGRESS: at sentence #1840000, processed 7599828 words, keeping 175192 word types\n",
      "2021-01-17 17:03:42,489 : INFO : PROGRESS: at sentence #1850000, processed 7640855 words, keeping 175600 word types\n",
      "2021-01-17 17:03:42,503 : INFO : PROGRESS: at sentence #1860000, processed 7682303 words, keeping 176061 word types\n",
      "2021-01-17 17:03:42,518 : INFO : PROGRESS: at sentence #1870000, processed 7723496 words, keeping 176473 word types\n",
      "2021-01-17 17:03:42,531 : INFO : PROGRESS: at sentence #1880000, processed 7764882 words, keeping 176942 word types\n",
      "2021-01-17 17:03:42,545 : INFO : PROGRESS: at sentence #1890000, processed 7806124 words, keeping 177389 word types\n",
      "2021-01-17 17:03:42,557 : INFO : PROGRESS: at sentence #1900000, processed 7847488 words, keeping 177798 word types\n",
      "2021-01-17 17:03:42,571 : INFO : PROGRESS: at sentence #1910000, processed 7888864 words, keeping 178272 word types\n",
      "2021-01-17 17:03:42,585 : INFO : PROGRESS: at sentence #1920000, processed 7930153 words, keeping 178672 word types\n",
      "2021-01-17 17:03:42,598 : INFO : PROGRESS: at sentence #1930000, processed 7971523 words, keeping 179116 word types\n",
      "2021-01-17 17:03:42,611 : INFO : PROGRESS: at sentence #1940000, processed 8013034 words, keeping 179531 word types\n",
      "2021-01-17 17:03:42,624 : INFO : PROGRESS: at sentence #1950000, processed 8054277 words, keeping 179975 word types\n",
      "2021-01-17 17:03:42,637 : INFO : PROGRESS: at sentence #1960000, processed 8095629 words, keeping 180396 word types\n",
      "2021-01-17 17:03:42,651 : INFO : PROGRESS: at sentence #1970000, processed 8137089 words, keeping 180819 word types\n",
      "2021-01-17 17:03:42,663 : INFO : PROGRESS: at sentence #1980000, processed 8178208 words, keeping 181292 word types\n",
      "2021-01-17 17:03:42,677 : INFO : PROGRESS: at sentence #1990000, processed 8219749 words, keeping 181731 word types\n",
      "2021-01-17 17:03:42,690 : INFO : PROGRESS: at sentence #2000000, processed 8260914 words, keeping 182184 word types\n",
      "2021-01-17 17:03:42,703 : INFO : PROGRESS: at sentence #2010000, processed 8302142 words, keeping 182653 word types\n",
      "2021-01-17 17:03:42,716 : INFO : PROGRESS: at sentence #2020000, processed 8343637 words, keeping 183068 word types\n",
      "2021-01-17 17:03:42,729 : INFO : PROGRESS: at sentence #2030000, processed 8384818 words, keeping 183505 word types\n",
      "2021-01-17 17:03:42,741 : INFO : PROGRESS: at sentence #2040000, processed 8426080 words, keeping 183924 word types\n",
      "2021-01-17 17:03:42,755 : INFO : PROGRESS: at sentence #2050000, processed 8467465 words, keeping 184394 word types\n",
      "2021-01-17 17:03:42,767 : INFO : PROGRESS: at sentence #2060000, processed 8508794 words, keeping 184813 word types\n",
      "2021-01-17 17:03:42,780 : INFO : PROGRESS: at sentence #2070000, processed 8550142 words, keeping 185224 word types\n",
      "2021-01-17 17:03:42,794 : INFO : PROGRESS: at sentence #2080000, processed 8591280 words, keeping 185625 word types\n",
      "2021-01-17 17:03:42,807 : INFO : PROGRESS: at sentence #2090000, processed 8632254 words, keeping 186021 word types\n",
      "2021-01-17 17:03:42,820 : INFO : PROGRESS: at sentence #2100000, processed 8673454 words, keeping 186468 word types\n",
      "2021-01-17 17:03:42,833 : INFO : PROGRESS: at sentence #2110000, processed 8714724 words, keeping 186890 word types\n",
      "2021-01-17 17:03:42,847 : INFO : PROGRESS: at sentence #2120000, processed 8755904 words, keeping 187310 word types\n",
      "2021-01-17 17:03:42,861 : INFO : PROGRESS: at sentence #2130000, processed 8797091 words, keeping 187752 word types\n"
     ]
    },
    {
     "name": "stderr",
     "output_type": "stream",
     "text": [
      "2021-01-17 17:03:42,873 : INFO : PROGRESS: at sentence #2140000, processed 8838386 words, keeping 188166 word types\n",
      "2021-01-17 17:03:42,886 : INFO : PROGRESS: at sentence #2150000, processed 8879774 words, keeping 188624 word types\n",
      "2021-01-17 17:03:42,899 : INFO : PROGRESS: at sentence #2160000, processed 8921124 words, keeping 189085 word types\n",
      "2021-01-17 17:03:42,913 : INFO : PROGRESS: at sentence #2170000, processed 8962374 words, keeping 189521 word types\n",
      "2021-01-17 17:03:42,927 : INFO : PROGRESS: at sentence #2180000, processed 9003600 words, keeping 189929 word types\n",
      "2021-01-17 17:03:42,940 : INFO : PROGRESS: at sentence #2190000, processed 9044969 words, keeping 190375 word types\n",
      "2021-01-17 17:03:42,953 : INFO : PROGRESS: at sentence #2200000, processed 9086312 words, keeping 190826 word types\n",
      "2021-01-17 17:03:42,967 : INFO : PROGRESS: at sentence #2210000, processed 9127530 words, keeping 191192 word types\n",
      "2021-01-17 17:03:42,982 : INFO : PROGRESS: at sentence #2220000, processed 9169141 words, keeping 191621 word types\n",
      "2021-01-17 17:03:42,995 : INFO : PROGRESS: at sentence #2230000, processed 9210216 words, keeping 192022 word types\n",
      "2021-01-17 17:03:43,010 : INFO : PROGRESS: at sentence #2240000, processed 9251566 words, keeping 192430 word types\n",
      "2021-01-17 17:03:43,024 : INFO : PROGRESS: at sentence #2250000, processed 9292726 words, keeping 192871 word types\n",
      "2021-01-17 17:03:43,037 : INFO : PROGRESS: at sentence #2260000, processed 9334152 words, keeping 193227 word types\n",
      "2021-01-17 17:03:43,051 : INFO : PROGRESS: at sentence #2270000, processed 9375507 words, keeping 193607 word types\n",
      "2021-01-17 17:03:43,065 : INFO : PROGRESS: at sentence #2280000, processed 9417215 words, keeping 193994 word types\n",
      "2021-01-17 17:03:43,078 : INFO : PROGRESS: at sentence #2290000, processed 9458490 words, keeping 194443 word types\n",
      "2021-01-17 17:03:43,081 : INFO : collected 194518 word types from a corpus of 9466666 raw words and 2291978 sentences\n",
      "2021-01-17 17:03:43,082 : INFO : Loading a fresh vocabulary\n",
      "2021-01-17 17:03:43,181 : INFO : effective_min_count=10 retains 36100 unique words (18% of original 194518, drops 158418)\n",
      "2021-01-17 17:03:43,182 : INFO : effective_min_count=10 leaves 9124470 word corpus (96% of original 9466666, drops 342196)\n",
      "2021-01-17 17:03:43,261 : INFO : deleting the raw counts dictionary of 194518 items\n",
      "2021-01-17 17:03:43,266 : INFO : sample=0.001 downsamples 34 most-common words\n",
      "2021-01-17 17:03:43,267 : INFO : downsampling leaves estimated 8041659 word corpus (88.1% of prior 9124470)\n",
      "2021-01-17 17:03:43,343 : INFO : estimated required memory for 36100 words and 1000 dimensions: 306850000 bytes\n",
      "2021-01-17 17:03:43,344 : INFO : resetting layer weights\n"
     ]
    }
   ],
   "source": [
    "w2v_model.build_vocab(df['clear'].apply(str.split))"
   ]
  },
  {
   "cell_type": "code",
   "execution_count": 17,
   "metadata": {},
   "outputs": [
    {
     "name": "stdout",
     "output_type": "stream",
     "text": [
      "Vocab size 36100\n"
     ]
    }
   ],
   "source": [
    "words = w2v_model.wv.vocab.keys()\n",
    "vocab_size = len(words)\n",
    "print(\"Vocab size\", vocab_size)"
   ]
  },
  {
   "cell_type": "code",
   "execution_count": 18,
   "metadata": {
    "jupyter": {
     "outputs_hidden": true
    }
   },
   "outputs": [
    {
     "name": "stderr",
     "output_type": "stream",
     "text": [
      "2021-01-17 17:04:43,795 : INFO : training model with 4 workers on 36100 vocabulary and 1000 features, using sg=0 hs=0 sample=0.001 negative=5 window=10\n",
      "2021-01-17 17:04:44,834 : INFO : EPOCH 1 - PROGRESS: at 7.29% examples, 576405 words/s, in_qsize 7, out_qsize 0\n",
      "2021-01-17 17:04:45,836 : INFO : EPOCH 1 - PROGRESS: at 14.89% examples, 593248 words/s, in_qsize 7, out_qsize 0\n",
      "2021-01-17 17:04:46,852 : INFO : EPOCH 1 - PROGRESS: at 22.59% examples, 599144 words/s, in_qsize 7, out_qsize 0\n",
      "2021-01-17 17:04:47,857 : INFO : EPOCH 1 - PROGRESS: at 30.41% examples, 605501 words/s, in_qsize 7, out_qsize 0\n",
      "2021-01-17 17:04:48,868 : INFO : EPOCH 1 - PROGRESS: at 38.33% examples, 610300 words/s, in_qsize 7, out_qsize 0\n",
      "2021-01-17 17:04:49,874 : INFO : EPOCH 1 - PROGRESS: at 46.26% examples, 614088 words/s, in_qsize 7, out_qsize 0\n",
      "2021-01-17 17:04:50,890 : INFO : EPOCH 1 - PROGRESS: at 54.30% examples, 617340 words/s, in_qsize 7, out_qsize 0\n",
      "2021-01-17 17:04:51,897 : INFO : EPOCH 1 - PROGRESS: at 62.33% examples, 620225 words/s, in_qsize 8, out_qsize 0\n",
      "2021-01-17 17:04:52,912 : INFO : EPOCH 1 - PROGRESS: at 70.46% examples, 623016 words/s, in_qsize 7, out_qsize 0\n",
      "2021-01-17 17:04:53,916 : INFO : EPOCH 1 - PROGRESS: at 78.58% examples, 625795 words/s, in_qsize 7, out_qsize 0\n",
      "2021-01-17 17:04:54,920 : INFO : EPOCH 1 - PROGRESS: at 86.60% examples, 627336 words/s, in_qsize 7, out_qsize 0\n",
      "2021-01-17 17:04:55,943 : INFO : EPOCH 1 - PROGRESS: at 94.21% examples, 624829 words/s, in_qsize 7, out_qsize 0\n",
      "2021-01-17 17:04:56,630 : INFO : worker thread finished; awaiting finish of 3 more threads\n",
      "2021-01-17 17:04:56,644 : INFO : worker thread finished; awaiting finish of 2 more threads\n",
      "2021-01-17 17:04:56,660 : INFO : worker thread finished; awaiting finish of 1 more threads\n",
      "2021-01-17 17:04:56,664 : INFO : worker thread finished; awaiting finish of 0 more threads\n",
      "2021-01-17 17:04:56,665 : INFO : EPOCH - 1 : training on 9466666 raw words (8042185 effective words) took 12.8s, 625945 effective words/s\n",
      "2021-01-17 17:04:57,705 : INFO : EPOCH 2 - PROGRESS: at 8.03% examples, 641411 words/s, in_qsize 8, out_qsize 0\n",
      "2021-01-17 17:04:58,727 : INFO : EPOCH 2 - PROGRESS: at 16.26% examples, 645369 words/s, in_qsize 7, out_qsize 0\n",
      "2021-01-17 17:04:59,729 : INFO : EPOCH 2 - PROGRESS: at 24.49% examples, 650519 words/s, in_qsize 7, out_qsize 0\n",
      "2021-01-17 17:05:00,733 : INFO : EPOCH 2 - PROGRESS: at 32.73% examples, 652810 words/s, in_qsize 7, out_qsize 0\n",
      "2021-01-17 17:05:01,742 : INFO : EPOCH 2 - PROGRESS: at 40.97% examples, 653500 words/s, in_qsize 7, out_qsize 0\n",
      "2021-01-17 17:05:02,752 : INFO : EPOCH 2 - PROGRESS: at 49.33% examples, 655269 words/s, in_qsize 7, out_qsize 0\n",
      "2021-01-17 17:05:03,755 : INFO : EPOCH 2 - PROGRESS: at 57.68% examples, 657295 words/s, in_qsize 7, out_qsize 0\n",
      "2021-01-17 17:05:04,760 : INFO : EPOCH 2 - PROGRESS: at 65.91% examples, 657622 words/s, in_qsize 7, out_qsize 0\n",
      "2021-01-17 17:05:05,761 : INFO : EPOCH 2 - PROGRESS: at 74.26% examples, 658981 words/s, in_qsize 7, out_qsize 0\n",
      "2021-01-17 17:05:06,772 : INFO : EPOCH 2 - PROGRESS: at 82.59% examples, 659449 words/s, in_qsize 7, out_qsize 0\n",
      "2021-01-17 17:05:07,773 : INFO : EPOCH 2 - PROGRESS: at 90.93% examples, 660417 words/s, in_qsize 7, out_qsize 0\n",
      "2021-01-17 17:05:08,775 : INFO : EPOCH 2 - PROGRESS: at 99.17% examples, 660426 words/s, in_qsize 7, out_qsize 0\n",
      "2021-01-17 17:05:08,832 : INFO : worker thread finished; awaiting finish of 3 more threads\n",
      "2021-01-17 17:05:08,839 : INFO : worker thread finished; awaiting finish of 2 more threads\n",
      "2021-01-17 17:05:08,850 : INFO : worker thread finished; awaiting finish of 1 more threads\n",
      "2021-01-17 17:05:08,865 : INFO : worker thread finished; awaiting finish of 0 more threads\n",
      "2021-01-17 17:05:08,865 : INFO : EPOCH - 2 : training on 9466666 raw words (8041664 effective words) took 12.2s, 660991 effective words/s\n",
      "2021-01-17 17:05:09,887 : INFO : EPOCH 3 - PROGRESS: at 8.13% examples, 651624 words/s, in_qsize 7, out_qsize 0\n",
      "2021-01-17 17:05:10,897 : INFO : EPOCH 3 - PROGRESS: at 16.47% examples, 658059 words/s, in_qsize 7, out_qsize 0\n",
      "2021-01-17 17:05:11,900 : INFO : EPOCH 3 - PROGRESS: at 24.81% examples, 661821 words/s, in_qsize 7, out_qsize 0\n",
      "2021-01-17 17:05:12,909 : INFO : EPOCH 3 - PROGRESS: at 33.26% examples, 664513 words/s, in_qsize 8, out_qsize 0\n",
      "2021-01-17 17:05:13,927 : INFO : EPOCH 3 - PROGRESS: at 41.71% examples, 665038 words/s, in_qsize 7, out_qsize 0\n",
      "2021-01-17 17:05:14,939 : INFO : EPOCH 3 - PROGRESS: at 50.17% examples, 666208 words/s, in_qsize 7, out_qsize 0\n",
      "2021-01-17 17:05:15,952 : INFO : EPOCH 3 - PROGRESS: at 58.63% examples, 666927 words/s, in_qsize 7, out_qsize 0\n",
      "2021-01-17 17:05:16,958 : INFO : EPOCH 3 - PROGRESS: at 67.08% examples, 668012 words/s, in_qsize 7, out_qsize 0\n",
      "2021-01-17 17:05:17,960 : INFO : EPOCH 3 - PROGRESS: at 75.42% examples, 668170 words/s, in_qsize 7, out_qsize 0\n",
      "2021-01-17 17:05:18,975 : INFO : EPOCH 3 - PROGRESS: at 83.96% examples, 669122 words/s, in_qsize 7, out_qsize 0\n",
      "2021-01-17 17:05:19,983 : INFO : EPOCH 3 - PROGRESS: at 92.42% examples, 669482 words/s, in_qsize 7, out_qsize 0\n",
      "2021-01-17 17:05:20,848 : INFO : worker thread finished; awaiting finish of 3 more threads\n",
      "2021-01-17 17:05:20,854 : INFO : worker thread finished; awaiting finish of 2 more threads\n",
      "2021-01-17 17:05:20,864 : INFO : worker thread finished; awaiting finish of 1 more threads\n",
      "2021-01-17 17:05:20,877 : INFO : worker thread finished; awaiting finish of 0 more threads\n",
      "2021-01-17 17:05:20,877 : INFO : EPOCH - 3 : training on 9466666 raw words (8041056 effective words) took 12.0s, 670455 effective words/s\n",
      "2021-01-17 17:05:20,878 : INFO : training on a 28399998 raw words (24124905 effective words) took 37.1s, 650595 effective words/s\n"
     ]
    },
    {
     "data": {
      "text/plain": [
       "(24124905, 28399998)"
      ]
     },
     "execution_count": 18,
     "metadata": {},
     "output_type": "execute_result"
    }
   ],
   "source": [
    "docs = df['clear'].apply(str.split)\n",
    "w2v_model.train(docs, total_examples=len(docs), epochs=3)"
   ]
  },
  {
   "cell_type": "code",
   "execution_count": 19,
   "metadata": {},
   "outputs": [
    {
     "name": "stderr",
     "output_type": "stream",
     "text": [
      "<ipython-input-19-909e824b505e>:1: DeprecationWarning: Call to deprecated `most_similar` (Method will be removed in 4.0.0, use self.wv.most_similar() instead).\n",
      "  w2v_model.most_similar(positive=['хорошо'])\n",
      "2021-01-17 17:09:28,113 : INFO : precomputing L2-norms of word weight vectors\n"
     ]
    },
    {
     "data": {
      "text/plain": [
       "[('причем', 0.922110915184021),\n",
       " ('жаль', 0.9195817708969116),\n",
       " ('круто', 0.9181531667709351),\n",
       " ('кстати', 0.9100744724273682),\n",
       " ('ходили', 0.9099265933036804),\n",
       " ('плохо', 0.9091436862945557),\n",
       " ('встретила', 0.9086582660675049),\n",
       " ('жалко', 0.9069492816925049),\n",
       " ('соскучилась', 0.906597375869751),\n",
       " ('кажется', 0.9034482836723328)]"
      ]
     },
     "execution_count": 19,
     "metadata": {},
     "output_type": "execute_result"
    }
   ],
   "source": [
    "w2v_model.most_similar(positive=['хорошо'])"
   ]
  },
  {
   "cell_type": "code",
   "execution_count": 21,
   "metadata": {},
   "outputs": [
    {
     "name": "stdout",
     "output_type": "stream",
     "text": [
      "[0, 1, 2]\n",
      "[3, 4, 5]\n",
      "[6, 7, 8]\n",
      "[9, 10, 11]\n",
      "[12, 13, 14]\n",
      "[15, 16, 17]\n",
      "[18, 19]\n"
     ]
    }
   ],
   "source": [
    "def chuncks(gen, chunck_size=100):\n",
    "    iterator = iter(gen)\n",
    "    flag = True\n",
    "    while flag:\n",
    "        res = []\n",
    "        for _ in range(chunck_size):\n",
    "            try:\n",
    "                res.append(next(iterator)) \n",
    "            except StopIteration:\n",
    "                flag = False\n",
    "                break\n",
    "        yield res   \n",
    "\n",
    "\n",
    "for chunc in chuncks(range(20), 3):\n",
    "    print(chunc)"
   ]
  },
  {
   "cell_type": "code",
   "execution_count": 40,
   "metadata": {},
   "outputs": [
    {
     "name": "stdout",
     "output_type": "stream",
     "text": [
      "760/763 done...\r"
     ]
    }
   ],
   "source": [
    "from sklearn.neural_network import MLPClassifier\n",
    "\n",
    "mlp = MLPClassifier(alpha=10, max_iter=300)\n",
    "\n",
    "def get_text_vector(text: str):\n",
    "    return sum(np.array([w2v_model.wv[word] if (word in w2v_model.wv) else np.zeros(1000) for word in text.split() ]))\n",
    "\n",
    "def vectors_generator(texts):\n",
    "    for text in texts:\n",
    "        yield get_text_vector(text)\n",
    "\n",
    "j = 0\n",
    "for batch in chuncks(zip(vectors_generator(df['clear']), df['target']), 3000):\n",
    "#     print([(len(item), target) for item, target in batch])\n",
    "    mlp.partial_fit(*list(zip(*batch)), classes=[0,1])\n",
    "    j += 1\n",
    "    if j % 10 == 0: \n",
    "        print(f\"{j}/{len(df)//3000} done...\\r\", end='')\n",
    "    \n",
    "# mlp.partial_fit()\n",
    "# df_vec = pd.DataFrame(df[['clear', 'target']], columns=['clear', 'target', *list(w2v_model.wv.vocab.keys())])\n",
    "\n",
    "# df_vec.head()"
   ]
  },
  {
   "cell_type": "code",
   "execution_count": 45,
   "metadata": {},
   "outputs": [
    {
     "data": {
      "text/plain": [
       "'Магазин «Шар идеальная форма» предлагает одежду больших размеров дамам, имеющим завидные формы. «Шар идеальная форма» является уникальной торговой площадкой с широким ассортиментом от производителей из разных стран. В магазине собраны модели от известных дизайнеров Турции, России и Беларуси. Магазин «Шар идеальная форма я» позволяет любой моднице получить желаемый товар по доступным ценам. Спешите оформить заказ, и менеджеры мигом доставят его вам. Для постоянных клиентов действует система скидок.'"
      ]
     },
     "execution_count": 45,
     "metadata": {},
     "output_type": "execute_result"
    }
   ],
   "source": [
    "test_text = \"\"\"Магазин «Шар идеальная форма» предлагает одежду больших размеров дамам, имеющим завидные формы. «Шар идеальная форма» является уникальной торговой площадкой с широким ассортиментом от производителей из разных стран. В магазине собраны модели от известных дизайнеров Турции, России и Беларуси. Магазин «Шар идеальная форма я» позволяет любой моднице получить желаемый товар по доступным ценам. Спешите оформить заказ, и менеджеры мигом доставят его вам. Для постоянных клиентов действует система скидок.\"\"\"\n",
    "test_text"
   ]
  },
  {
   "cell_type": "code",
   "execution_count": 46,
   "metadata": {},
   "outputs": [
    {
     "data": {
      "text/plain": [
       "'И сын, так же как и муж, произвел в Анне чувство, похожее на разочарование. Она воображала его лучше, чем он был в действительности. Она была должна опуститься до действительности, чтобы наслаждаться им таким, каков он был. Но и такой, каков он был, он был прелестен с своими белокурыми кудрями, голубыми глазами и полными стройными ножками в туго натянутых чулках'"
      ]
     },
     "execution_count": 46,
     "metadata": {},
     "output_type": "execute_result"
    }
   ],
   "source": [
    "#test_non_ad = \"\"\"Будущий богослов родился в небольшом городке Аудеватер в южной части Испанских Нидерландов. Получив начальное образование на родине, продолжил изучать богословие в университетах Марбурга, Лейдена, Женевы и Базеля. В Женеве преподавателем Арминия стал известный протестантский богослов Теодор Беза, сподвижник Жана Кальвина. Полученные рекомендации позволили Арминию получить должность пастора в Амстердаме в 1588 году\"\"\"\n",
    "test_non_ad = \"\"\"И сын, так же как и муж, произвел в Анне чувство, похожее на разочарование. Она воображала его лучше, чем он был в действительности. Она была должна опуститься до действительности, чтобы наслаждаться им таким, каков он был. Но и такой, каков он был, он был прелестен с своими белокурыми кудрями, голубыми глазами и полными стройными ножками в туго натянутых чулках\"\"\"\n",
    "\n",
    "test_non_ad"
   ]
  },
  {
   "cell_type": "code",
   "execution_count": 47,
   "metadata": {},
   "outputs": [
    {
     "data": {
      "text/plain": [
       "'Полагая, что Арминий является сторонником доктрины о свободе воли и деятельном участии человека в деле своего спасения, Гомарус обвинял его в ереси пелагианства и полупелагианства. Их конфликт неоднократно становился предметом разбирательства гражданских властей республики, и своё самое известное произведение, «Объявление мнения», Арминий представил 20 октября 1608 года в своей речи перед Генеральными штатами. Богослов скончался в разгар споров относительно своего учения, и его последователи, получившие название ремонстрантов, организационно оформились после его смерти. '"
      ]
     },
     "execution_count": 47,
     "metadata": {},
     "output_type": "execute_result"
    }
   ],
   "source": [
    "test_non_ad2 = \"\"\"Полагая, что Арминий является сторонником доктрины о свободе воли и деятельном участии человека в деле своего спасения, Гомарус обвинял его в ереси пелагианства и полупелагианства. Их конфликт неоднократно становился предметом разбирательства гражданских властей республики, и своё самое известное произведение, «Объявление мнения», Арминий представил 20 октября 1608 года в своей речи перед Генеральными штатами. Богослов скончался в разгар споров относительно своего учения, и его последователи, получившие название ремонстрантов, организационно оформились после его смерти. \"\"\"\n",
    "test_non_ad2"
   ]
  },
  {
   "cell_type": "code",
   "execution_count": 48,
   "metadata": {},
   "outputs": [
    {
     "data": {
      "text/plain": [
       "array([1, 0, 0])"
      ]
     },
     "execution_count": 48,
     "metadata": {},
     "output_type": "execute_result"
    }
   ],
   "source": [
    "mlp.predict([get_text_vector(text) for text in (test_text, test_non_ad, test_non_ad2)])"
   ]
  },
  {
   "cell_type": "code",
   "execution_count": null,
   "metadata": {},
   "outputs": [],
   "source": []
  }
 ],
 "metadata": {
  "kernelspec": {
   "display_name": "Python 3",
   "language": "python",
   "name": "python3"
  },
  "language_info": {
   "codemirror_mode": {
    "name": "ipython",
    "version": 3
   },
   "file_extension": ".py",
   "mimetype": "text/x-python",
   "name": "python",
   "nbconvert_exporter": "python",
   "pygments_lexer": "ipython3",
   "version": "3.8.5"
  }
 },
 "nbformat": 4,
 "nbformat_minor": 4
}
